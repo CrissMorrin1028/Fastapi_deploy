{
 "cells": [
  {
   "cell_type": "code",
   "execution_count": 1,
   "metadata": {},
   "outputs": [],
   "source": [
    "import pandas as pd\n",
    "import pyarrow.parquet as pq\n",
    "from scipy.sparse import csr_matrix\n",
    "from sklearn.metrics.pairwise import cosine_similarity\n",
    "from surprise import Reader, Dataset, SVD\n",
    "from surprise.model_selection import train_test_split, GridSearchCV\n",
    "import pickle \n",
    "import numpy as np"
   ]
  },
  {
   "cell_type": "code",
   "execution_count": 6,
   "metadata": {},
   "outputs": [],
   "source": [
    "# SISTEMA DE RECOMENDACIÓN - ITEM-ITEM\n",
    "def recomendacion_juego(item_id):\n",
    "    \"\"\"\n",
    "    Sistema de recomendación item-item.\n",
    "\n",
    "    Ingresando el ID de un producto, se devuelve una lista con 5 juegos recomendados similares al ingresado.\n",
    "\n",
    "    Args:\n",
    "    - item_id: El ID del producto para el cual se desean obtener recomendaciones.\n",
    "\n",
    "    Returns:\n",
    "    - dict: Un diccionario que contiene una lista de 5 juegos recomendados similares al ingresado.\n",
    "      El diccionario tiene el formato {\"Juegos similares al ID ingresado\": {ID1: 'Nombre1', ID2: 'Nombre2', ...}}.\n",
    "\n",
    "    Raises:\n",
    "    - Si el DataFrame está vacío, devuelve un mensaje de error.\n",
    "    - Si el item_id no existe en el DataFrame, devuelve un mensaje de error.\n",
    "    - Si ocurre un error al cargar el archivo de similitud, intenta calcular la similitud del coseno\n",
    "      entre los productos y proporciona recomendaciones basadas en eso.\n",
    "    \"\"\"\n",
    "    # Leer el archivo parquet en un DataFrame\n",
    "    data = pd.read_parquet('item_item.parquet')\n",
    "    \n",
    "    try:\n",
    "        # Cargar la matriz de similitud de items_similarity\n",
    "        with open('item_similarity.pkl', 'rb') as f:\n",
    "            item_similarity_df = pickle.load(f)\n",
    "\n",
    "        print(\"Se cargó la matriz precalculada.\")\n",
    "\n",
    "    except Exception as e:\n",
    "        print(f\"Ocurrió un error al cargar el archivo: {e}\")\n",
    "\n",
    "        \n",
    "\n",
    "        # Si el dataframe está vacío, devolver un mensaje de error\n",
    "        if data.empty:\n",
    "            return {\n",
    "                \"detail\": [\n",
    "                    {\n",
    "                        \"loc\": [\"string\", 0],\n",
    "                        \"msg\": \"El DataFrame está vacío\",\n",
    "                        \"type\": \"value_error\"\n",
    "                    }\n",
    "                ]\n",
    "            }\n",
    "\n",
    "        # Si el item_id no existe en el DataFrame, devolver un mensaje de error\n",
    "        if item_id not in data['item_id'].values:\n",
    "            return {\n",
    "                \"detail\": [\n",
    "                    {\n",
    "                        \"loc\": [\"string\", 0],\n",
    "                        \"msg\": \"El item_id proporcionado no existe\",\n",
    "                        \"type\": \"value_error\"\n",
    "                    }\n",
    "                ]\n",
    "            }\n",
    "\n",
    "        # Convertir la columna 'recommend' a valores numéricos\n",
    "        data['recommend'] = data['recommend'].apply(lambda x: 1 if x else 0)\n",
    "\n",
    "        # Crear la matriz de utilidad\n",
    "        matrix = data.pivot_table(index='item_id', values=['recommend', 'sentiment_analysis'])\n",
    "\n",
    "        # Rellenar los valores faltantes con 0\n",
    "        matrix.fillna(0, inplace=True)\n",
    "\n",
    "        # Calcular la similitud del coseno\n",
    "        item_similarity = cosine_similarity(matrix)\n",
    "\n",
    "        # Convertir los resultados en un DataFrame\n",
    "        item_similarity_df = pd.DataFrame(item_similarity, index=matrix.index, columns=matrix.index)\n",
    "\n",
    "        print(\"Se calculó la matriz de similitud.\")\n",
    "\n",
    "    if 'item_similarity_df' not in locals():\n",
    "        # Obtener los juegos similares al juego dado\n",
    "        similar_games = item_similarity_df[item_id].sort_values(ascending=False)\n",
    "\n",
    "        # Obtener los 5 juegos más similares\n",
    "        similar_games_ids = similar_games.head(6).index.tolist()[1:]  # Excluimos el primer juego porque es el mismo juego\n",
    "\n",
    "        # Crear un diccionario con los ids y los nombres de los juegos\n",
    "        recommended_games = {game_id: data[data['item_id'] == game_id]['item_name'].iloc[0] for game_id in similar_games_ids}\n",
    "\n",
    "        return {\"Juegos similares al id ingresado\": recommended_games}\n",
    "    else:\n",
    "        # Obtener los juegos similares al juego dado\n",
    "        similar_games = item_similarity_df[item_id].sort_values(ascending=False)\n",
    "\n",
    "        # Obtener los 5 juegos más similares\n",
    "        similar_games_ids = similar_games.head(6).index.tolist()[1:]  # Excluimos el primer juego porque es el mismo juego\n",
    "\n",
    "        # Crear un diccionario con los ids y los nombres de los juegos\n",
    "        recommended_games = {game_id: data[data['item_id'] == game_id]['item_name'].iloc[0] for game_id in similar_games_ids}\n",
    "\n",
    "        return {\"Juegos similares al id ingresado\": recommended_games}"
   ]
  },
  {
   "cell_type": "code",
   "execution_count": 8,
   "metadata": {},
   "outputs": [
    {
     "name": "stdout",
     "output_type": "stream",
     "text": [
      "Se cargó la matriz precalculada.\n"
     ]
    },
    {
     "data": {
      "text/plain": [
       "{'Juegos similares al id ingresado': {250420: '8BitMMO',\n",
       "  234490: 'Rush Bros.',\n",
       "  390670: 'Steel Ocean',\n",
       "  376570: 'WildStar',\n",
       "  219680: 'Proteus'}}"
      ]
     },
     "execution_count": 8,
     "metadata": {},
     "output_type": "execute_result"
    }
   ],
   "source": [
    "# llamada a la función\n",
    "recomendacion_juego(30)"
   ]
  }
 ],
 "metadata": {
  "kernelspec": {
   "display_name": "venv",
   "language": "python",
   "name": "python3"
  },
  "language_info": {
   "codemirror_mode": {
    "name": "ipython",
    "version": 3
   },
   "file_extension": ".py",
   "mimetype": "text/x-python",
   "name": "python",
   "nbconvert_exporter": "python",
   "pygments_lexer": "ipython3",
   "version": "3.11.4"
  }
 },
 "nbformat": 4,
 "nbformat_minor": 2
}
